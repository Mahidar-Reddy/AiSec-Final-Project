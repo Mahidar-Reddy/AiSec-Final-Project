{
  "cells": [
    {
      "cell_type": "code",
      "source": [
        "!pip install stumpy"
      ],
      "metadata": {
        "colab": {
          "base_uri": "https://localhost:8080/"
        },
        "id": "-m5kufQaDeVx",
        "outputId": "c0e2d1eb-3a88-401a-d7cb-89d1a47b3126"
      },
      "id": "-m5kufQaDeVx",
      "execution_count": null,
      "outputs": [
        {
          "output_type": "stream",
          "name": "stdout",
          "text": [
            "Collecting stumpy\n",
            "  Downloading stumpy-1.10.0-py3-none-any.whl (118 kB)\n",
            "\u001b[K     |████████████████████████████████| 118 kB 5.2 MB/s \n",
            "\u001b[?25hRequirement already satisfied: numba>=0.48 in /usr/local/lib/python3.7/dist-packages (from stumpy) (0.51.2)\n",
            "Collecting scipy>=1.5\n",
            "  Downloading scipy-1.7.3-cp37-cp37m-manylinux_2_12_x86_64.manylinux2010_x86_64.whl (38.1 MB)\n",
            "\u001b[K     |████████████████████████████████| 38.1 MB 239 kB/s \n",
            "\u001b[?25hRequirement already satisfied: numpy>=1.15 in /usr/local/lib/python3.7/dist-packages (from stumpy) (1.19.5)\n",
            "Requirement already satisfied: setuptools in /usr/local/lib/python3.7/dist-packages (from numba>=0.48->stumpy) (57.4.0)\n",
            "Requirement already satisfied: llvmlite<0.35,>=0.34.0.dev0 in /usr/local/lib/python3.7/dist-packages (from numba>=0.48->stumpy) (0.34.0)\n",
            "Installing collected packages: scipy, stumpy\n",
            "  Attempting uninstall: scipy\n",
            "    Found existing installation: scipy 1.4.1\n",
            "    Uninstalling scipy-1.4.1:\n",
            "      Successfully uninstalled scipy-1.4.1\n",
            "\u001b[31mERROR: pip's dependency resolver does not currently take into account all the packages that are installed. This behaviour is the source of the following dependency conflicts.\n",
            "albumentations 0.1.12 requires imgaug<0.2.7,>=0.2.5, but you have imgaug 0.2.9 which is incompatible.\u001b[0m\n",
            "Successfully installed scipy-1.7.3 stumpy-1.10.0\n"
          ]
        }
      ]
    },
    {
      "cell_type": "code",
      "source": [
        "a = []\n",
        "while(1):\n",
        "    a.append('1')"
      ],
      "metadata": {
        "id": "FhhRzl07njKg"
      },
      "id": "FhhRzl07njKg",
      "execution_count": null,
      "outputs": []
    },
    {
      "cell_type": "code",
      "execution_count": null,
      "id": "ba61e0fe",
      "metadata": {
        "id": "ba61e0fe",
        "colab": {
          "base_uri": "https://localhost:8080/"
        },
        "outputId": "b4c54d93-9bc1-4c01-9d4f-15435ddeb48b"
      },
      "outputs": [
        {
          "output_type": "stream",
          "name": "stderr",
          "text": [
            "/usr/local/lib/python3.7/dist-packages/numba/np/ufunc/parallel.py:363: NumbaWarning: The TBB threading layer requires TBB version 2019.5 or later i.e., TBB_INTERFACE_VERSION >= 11005. Found TBB_INTERFACE_VERSION = 9107. The TBB threading layer is disabled.\n",
            "  warnings.warn(problem)\n"
          ]
        }
      ],
      "source": [
        "import numpy as np\n",
        "import pandas as pd\n",
        "import datetime as dt\n",
        "import pathlib\n",
        "import tqdm\n",
        "import stumpy"
      ]
    },
    {
      "cell_type": "code",
      "source": [
        "from google.colab import drive\n",
        "drive.mount('/content/drive')"
      ],
      "metadata": {
        "id": "UWtghFhmByG_",
        "outputId": "a5f9c7e8-93d7-4aca-887e-a68e458ef23c",
        "colab": {
          "base_uri": "https://localhost:8080/"
        }
      },
      "id": "UWtghFhmByG_",
      "execution_count": null,
      "outputs": [
        {
          "output_type": "stream",
          "name": "stdout",
          "text": [
            "Mounted at /content/drive\n"
          ]
        }
      ]
    },
    {
      "cell_type": "code",
      "source": [
        "rootpath = pathlib.Path('/content/drive/MyDrive')\n",
        "txt_dirpath = rootpath / 'AICSE Project Data'"
      ],
      "metadata": {
        "id": "gZep56Y4EOUF"
      },
      "id": "gZep56Y4EOUF",
      "execution_count": null,
      "outputs": []
    },
    {
      "cell_type": "code",
      "source": [
        "import os\n",
        "os.chdir(\"/content/drive/My Drive\")\n",
        "!ls"
      ],
      "metadata": {
        "colab": {
          "base_uri": "https://localhost:8080/"
        },
        "id": "c5Fu6M8vEz6Y",
        "outputId": "84531fea-9258-4876-ac54-7d26308e6bb7"
      },
      "id": "c5Fu6M8vEz6Y",
      "execution_count": null,
      "outputs": [
        {
          "output_type": "stream",
          "name": "stdout",
          "text": [
            "'AICSE Project Data'\t 'Getting started.pdf'\n",
            "'bank statement.pdf'\t  kddcup.data_10_percent_corrected\n",
            "'Colab Notebooks'\t  Pickle_Files\n",
            "'Dublu Bio-data.docx'\t  vMalConv\n",
            "'financial support.pdf'\n"
          ]
        }
      ]
    },
    {
      "cell_type": "code",
      "source": [
        "# Parameter setting\n",
        "min_window_size = 40\n",
        "max_window_size = 800\n",
        "growth_rate = 1.1\n",
        "denom_threshold = 0.1\n",
        "upper_threshold = 0.75\n",
        "lower_threshold = 0.25\n",
        "const_threshold = 0.05\n",
        "min_coef = 0.5\n",
        "small_quantile = 0.1\n",
        "padding_length = 3\n",
        "train_length = 10\n",
        "use_gpu = False"
      ],
      "metadata": {
        "id": "wnN9qxwtGWIK"
      },
      "id": "wnN9qxwtGWIK",
      "execution_count": null,
      "outputs": []
    },
    {
      "cell_type": "code",
      "source": [
        "# Determine window sizes\n",
        "size = int(np.log(max_window_size / min_window_size) / np.log(growth_rate)) + 1\n",
        "rates = np.full(size, growth_rate) ** np.arange(size)\n",
        "ws = (min_window_size * rates).astype(int)"
      ],
      "metadata": {
        "id": "3MI0cTXsGcPC"
      },
      "id": "3MI0cTXsGcPC",
      "execution_count": null,
      "outputs": []
    },
    {
      "cell_type": "code",
      "source": [
        "# Select stump function\n",
        "if use_gpu:\n",
        "    stump = stumpy.gpu_stump\n",
        "else:\n",
        "    stump = stumpy.stump"
      ],
      "metadata": {
        "id": "Lz7whC0vGfes"
      },
      "id": "Lz7whC0vGfes",
      "execution_count": null,
      "outputs": []
    },
    {
      "cell_type": "code",
      "source": [
        "# Anomaly score names\n",
        "names = [\n",
        "    'orig_p2p',\n",
        "    'diff_p2p',\n",
        "    'acc_p2p',\n",
        "    'orig_p2p_inv',\n",
        "    'diff_small',\n",
        "    'acc_std',\n",
        "    'acc_std_inv',\n",
        "    'orig_mp_novelty',\n",
        "    'orig_np_novelty',\n",
        "    'orig_mp_outlier',\n",
        "    'orig_np_outlier',\n",
        "]\n"
      ],
      "metadata": {
        "id": "-Hi5fAbNGijx"
      },
      "id": "-Hi5fAbNGijx",
      "execution_count": null,
      "outputs": []
    },
    {
      "cell_type": "code",
      "source": [
        "def compute_score(X, number, split, w):\n",
        "        \n",
        "    # original time series (orig)\n",
        "    seq = pd.DataFrame(X, columns=['orig'])\n",
        "    \n",
        "    # velocity (diff) and acceleration (acc)\n",
        "    seq['diff'] = seq['orig'].diff(1)\n",
        "    seq['acc'] = seq['diff'].diff(1)\n",
        "        \n",
        "    # standard deviation (std)\n",
        "    for name in ['orig', 'acc']:\n",
        "        seq[f'{name}_std'] = seq[name].rolling(w).std().shift(-w)\n",
        "    \n",
        "    # peak-to-peak (p2p)\n",
        "    for name in ['orig', 'diff', 'acc']:\n",
        "        rolling_max = seq[name].rolling(w).max()\n",
        "        rolling_min = seq[name].rolling(w).min()\n",
        "        seq[f'{name}_p2p'] = (rolling_max - rolling_min).shift(-w)\n",
        "    \n",
        "    # diff small\n",
        "    diff_abs = seq['diff'].abs()\n",
        "    cond = diff_abs <= diff_abs.quantile(small_quantile)\n",
        "    seq['diff_small'] = cond.rolling(w).mean().shift(-w)\n",
        "    \n",
        "    # inverse (inv)\n",
        "    for name in ['orig_p2p', 'acc_std']:\n",
        "        numer = seq[name].mean()\n",
        "        denom = seq[name].clip(lower=numer * denom_threshold)\n",
        "        seq[f'{name}_inv'] = numer / denom\n",
        "    \n",
        "    # coef for penalizing subsequences with little change\n",
        "    name = 'orig_p2p'\n",
        "    mean = seq[name].mean()\n",
        "    upper = mean * upper_threshold\n",
        "    lower = mean * lower_threshold\n",
        "    const = mean * const_threshold\n",
        "    seq['coef'] = (seq[name] - lower) / (upper - lower)\n",
        "    seq['coef'].clip(upper=1.0, lower=0.0, inplace=True)\n",
        "    cond = (seq[name] <= const).rolling(2 * w).max().shift(-w) == 1\n",
        "    seq.loc[cond, 'coef'] = 0.0\n",
        "        \n",
        "    # matrix profile value (mpv) and index (mpi)\n",
        "    mpv = {}\n",
        "    mpi = {}\n",
        "    for mode in ['train', 'join', 'all']:\n",
        "        if mode == 'train':\n",
        "            mp = stump(X[:split], w)\n",
        "        elif mode == 'join':\n",
        "            mp = stump(X[split:], w, X[:split], ignore_trivial=False)\n",
        "        elif mode == 'all':\n",
        "            mp = stump(X, w)\n",
        "        mpv[mode] = mp[:, 0].astype(float)\n",
        "        mpi[mode] = mp[:, 1].astype(int)\n",
        "        \n",
        "    # matrix profile (mp) and normalized profile (np) for novelty detection (AB-join)\n",
        "    numer = mpv['join']\n",
        "    denom = mpv['train'][mpi['join']]\n",
        "    begin = split\n",
        "    end = begin + len(numer) - 1\n",
        "    numer *= seq.loc[begin:end, 'coef'].values\n",
        "    seq.loc[begin:end, 'orig_mp_novelty'] = numer\n",
        "    with np.errstate(all='ignore'):\n",
        "        seq.loc[begin:end, 'orig_np_novelty'] = numer / denom\n",
        "    seq['orig_np_novelty'].clip(upper=1 / denom_threshold, inplace=True)\n",
        "\n",
        "    # matrix profile (mp) and normalized profile (np) for outlier detection (self-join)\n",
        "    numer = mpv['all']\n",
        "    denom = mpv['all'][mpi['all']]\n",
        "    begin = 0\n",
        "    end = begin + len(numer) - 1\n",
        "    numer *= seq.loc[begin:end, 'coef'].values\n",
        "    seq.loc[begin:end, 'orig_mp_outlier'] = numer\n",
        "    with np.errstate(all='ignore'):\n",
        "        seq.loc[begin:end, 'orig_np_outlier'] = numer / denom\n",
        "    seq['orig_np_outlier'].clip(upper=1 / denom_threshold, inplace=True)\n",
        "    \n",
        "    # Smooth and mask anomaly score\n",
        "    padding = w * padding_length\n",
        "    seq['mask'] = 0.0\n",
        "    seq.loc[seq.index[w:-w-padding], 'mask'] = 1.0\n",
        "    seq['mask'] = seq['mask'].rolling(padding, min_periods=1).sum() / padding\n",
        "    for name in names:\n",
        "        seq[f'{name}_score'] = seq[name].rolling(w).mean() * seq['mask']\n",
        "    \n",
        "    return seq"
      ],
      "metadata": {
        "id": "1KyP5YvqGlZr"
      },
      "id": "1KyP5YvqGlZr",
      "execution_count": null,
      "outputs": []
    },
    {
      "cell_type": "code",
      "source": [
        "# Evaluate anomaly score for each time series\n",
        "results = []\n",
        "for txt_filepath in sorted(txt_dirpath.iterdir()):\n",
        "    \n",
        "    # Load time series\n",
        "    X = np.loadtxt(txt_filepath)\n",
        "    \n",
        "    number = txt_filepath.stem.split('_')[0]\n",
        "    split = int(txt_filepath.stem.split('_')[-1])\n",
        "    print(f'\\n{txt_filepath.name} {split}/{len(X)}', flush=True)\n",
        "    \n",
        "    # Evaluate anomaly score for each window size w\n",
        "    for w in tqdm.tqdm(ws):\n",
        "        \n",
        "        # Skip long subsequence\n",
        "        if w * train_length > split:\n",
        "            continue\n",
        "            \n",
        "        # Compute anomaly score\n",
        "        seq = compute_score(X, number, split, w)\n",
        "        \n",
        "        # Skip if coef is small\n",
        "        if seq['coef'].mean() < min_coef:\n",
        "            continue\n",
        "            \n",
        "        # Evaluate anomaly score\n",
        "        for name in names:\n",
        "            \n",
        "            # Copy anomaly score\n",
        "            y = seq[f'{name}_score'].copy()\n",
        "            \n",
        "            # Find local maxima\n",
        "            cond = (y == y.rolling(w, center=True, min_periods=1).max())\n",
        "            y.loc[~cond] = np.nan\n",
        "            \n",
        "            # Find 1st peak\n",
        "            index1 = y.idxmax()\n",
        "            value1 = y.max()\n",
        "            \n",
        "            # Skip if all score is NaN\n",
        "            if not np.isfinite(value1):\n",
        "                continue\n",
        "                \n",
        "            # Skip if train data has 1st peak\n",
        "            begin = index1 - w\n",
        "            end = index1 + w\n",
        "            if begin < split:\n",
        "                continue\n",
        "\n",
        "            # Find 2nd peak\n",
        "            y.iloc[begin:end] = np.nan\n",
        "            index2 = y.idxmax()\n",
        "            value2 = y.max()\n",
        "            \n",
        "            # Skip if 2nd peak height is zero\n",
        "            if value2 == 0:\n",
        "                continue\n",
        "            \n",
        "            # Evaluate rate of 1st peak height to 2nd peak height\n",
        "            rate = value1 / value2\n",
        "            results.append([number, w, name, rate, begin, end, index1, value1, index2, value2])\n",
        "\n",
        "\n",
        "results = pd.DataFrame(results, columns=['number', 'w', 'name', 'rate', 'begin', 'end', 'index1', 'value1', 'index2', 'value2'])\n",
        "\n",
        "# Make submission csv\n",
        "submission = results.loc[results.groupby('number')['rate'].idxmax(), 'index1']\n",
        "submission.index = np.arange(len(submission)) + 1\n",
        "submission.name = 'location'\n",
        "submission.index.name = 'No.'\n",
        "submission.to_csv('result.csv')"
      ],
      "metadata": {
        "colab": {
          "base_uri": "https://localhost:8080/"
        },
        "id": "JEwBxwx9p_43",
        "outputId": "0537c1e3-3b41-4476-8a81-71edf641b3a3"
      },
      "id": "JEwBxwx9p_43",
      "execution_count": null,
      "outputs": [
        {
          "output_type": "stream",
          "name": "stdout",
          "text": [
            "\n",
            "001_UCR_Anomaly_35000.txt 35000/79795\n"
          ]
        },
        {
          "output_type": "stream",
          "name": "stderr",
          "text": [
            "100%|██████████| 32/32 [17:13<00:00, 32.30s/it]\n"
          ]
        },
        {
          "output_type": "stream",
          "name": "stdout",
          "text": [
            "\n",
            "002_UCR_Anomaly_35000.txt 35000/80001\n"
          ]
        },
        {
          "output_type": "stream",
          "name": "stderr",
          "text": [
            "100%|██████████| 32/32 [17:13<00:00, 32.29s/it]\n"
          ]
        },
        {
          "output_type": "stream",
          "name": "stdout",
          "text": [
            "\n",
            "003_UCR_Anomaly_35000.txt 35000/80000\n"
          ]
        },
        {
          "output_type": "stream",
          "name": "stderr",
          "text": [
            "100%|██████████| 32/32 [17:13<00:00, 32.28s/it]\n"
          ]
        },
        {
          "output_type": "stream",
          "name": "stdout",
          "text": [
            "\n",
            "004_UCR_Anomaly_2500.txt 2500/11000\n"
          ]
        },
        {
          "output_type": "stream",
          "name": "stderr",
          "text": [
            "100%|██████████| 32/32 [00:12<00:00,  2.59it/s]\n"
          ]
        },
        {
          "output_type": "stream",
          "name": "stdout",
          "text": [
            "\n",
            "005_UCR_Anomaly_4000.txt 4000/8184\n"
          ]
        },
        {
          "output_type": "stream",
          "name": "stderr",
          "text": [
            "100%|██████████| 32/32 [00:11<00:00,  2.90it/s]\n"
          ]
        },
        {
          "output_type": "stream",
          "name": "stdout",
          "text": [
            "\n",
            "006_UCR_Anomaly_4000.txt 4000/8184\n"
          ]
        },
        {
          "output_type": "stream",
          "name": "stderr",
          "text": [
            "100%|██████████| 32/32 [00:11<00:00,  2.90it/s]\n"
          ]
        },
        {
          "output_type": "stream",
          "name": "stdout",
          "text": [
            "\n",
            "007_UCR_Anomaly_4000.txt 4000/8184\n"
          ]
        },
        {
          "output_type": "stream",
          "name": "stderr",
          "text": [
            "100%|██████████| 32/32 [00:11<00:00,  2.91it/s]\n"
          ]
        },
        {
          "output_type": "stream",
          "name": "stdout",
          "text": [
            "\n",
            "008_UCR_Anomaly_4000.txt 4000/8184\n"
          ]
        },
        {
          "output_type": "stream",
          "name": "stderr",
          "text": [
            "100%|██████████| 32/32 [00:11<00:00,  2.90it/s]\n"
          ]
        },
        {
          "output_type": "stream",
          "name": "stdout",
          "text": [
            "\n",
            "009_UCR_Anomaly_4000.txt 4000/8184\n"
          ]
        },
        {
          "output_type": "stream",
          "name": "stderr",
          "text": [
            "100%|██████████| 32/32 [00:11<00:00,  2.90it/s]\n"
          ]
        },
        {
          "output_type": "stream",
          "name": "stdout",
          "text": [
            "\n",
            "010_UCR_Anomaly_4000.txt 4000/8184\n"
          ]
        },
        {
          "output_type": "stream",
          "name": "stderr",
          "text": [
            "100%|██████████| 32/32 [00:11<00:00,  2.88it/s]\n"
          ]
        },
        {
          "output_type": "stream",
          "name": "stdout",
          "text": [
            "\n",
            "011_UCR_Anomaly_10000.txt 10000/30000\n"
          ]
        },
        {
          "output_type": "stream",
          "name": "stderr",
          "text": [
            "100%|██████████| 32/32 [02:20<00:00,  4.39s/it]\n"
          ]
        },
        {
          "output_type": "stream",
          "name": "stdout",
          "text": [
            "\n",
            "012_UCR_Anomaly_15000.txt 15000/30000\n"
          ]
        },
        {
          "output_type": "stream",
          "name": "stderr",
          "text": [
            "100%|██████████| 32/32 [02:37<00:00,  4.92s/it]\n"
          ]
        },
        {
          "output_type": "stream",
          "name": "stdout",
          "text": [
            "\n",
            "013_UCR_Anomaly_15000.txt 15000/30000\n"
          ]
        },
        {
          "output_type": "stream",
          "name": "stderr",
          "text": [
            "100%|██████████| 32/32 [02:37<00:00,  4.93s/it]\n"
          ]
        },
        {
          "output_type": "stream",
          "name": "stdout",
          "text": [
            "\n",
            "014_UCR_Anomaly_8000.txt 8000/30000\n"
          ]
        },
        {
          "output_type": "stream",
          "name": "stderr",
          "text": [
            "100%|██████████| 32/32 [02:12<00:00,  4.14s/it]\n"
          ]
        },
        {
          "output_type": "stream",
          "name": "stdout",
          "text": [
            "\n",
            "015_UCR_Anomaly_5000.txt 5000/200000\n"
          ]
        },
        {
          "output_type": "stream",
          "name": "stderr",
          "text": [
            "100%|██████████| 32/32 [58:00<00:00, 108.78s/it]\n"
          ]
        },
        {
          "output_type": "stream",
          "name": "stdout",
          "text": [
            "\n",
            "016_UCR_Anomaly_5000.txt 5000/30000\n"
          ]
        },
        {
          "output_type": "stream",
          "name": "stderr",
          "text": [
            "100%|██████████| 32/32 [01:41<00:00,  3.16s/it]\n"
          ]
        },
        {
          "output_type": "stream",
          "name": "stdout",
          "text": [
            "\n",
            "017_UCR_Anomaly_5000.txt 5000/30000\n"
          ]
        },
        {
          "output_type": "stream",
          "name": "stderr",
          "text": [
            "100%|██████████| 32/32 [01:41<00:00,  3.17s/it]\n"
          ]
        },
        {
          "output_type": "stream",
          "name": "stdout",
          "text": [
            "\n",
            "018_UCR_Anomaly_8000.txt 8000/30000\n"
          ]
        },
        {
          "output_type": "stream",
          "name": "stderr",
          "text": [
            "100%|██████████| 32/32 [02:13<00:00,  4.16s/it]\n"
          ]
        },
        {
          "output_type": "stream",
          "name": "stdout",
          "text": [
            "\n",
            "019_UCR_Anomaly_5000.txt 5000/12000\n"
          ]
        },
        {
          "output_type": "stream",
          "name": "stderr",
          "text": [
            "100%|██████████| 32/32 [00:22<00:00,  1.42it/s]\n"
          ]
        },
        {
          "output_type": "stream",
          "name": "stdout",
          "text": [
            "\n",
            "020_UCR_Anomaly_5000.txt 5000/12000\n"
          ]
        },
        {
          "output_type": "stream",
          "name": "stderr",
          "text": [
            "100%|██████████| 32/32 [00:22<00:00,  1.42it/s]\n"
          ]
        },
        {
          "output_type": "stream",
          "name": "stdout",
          "text": [
            "\n",
            "021_UCR_Anomaly_5000.txt 5000/12000\n"
          ]
        },
        {
          "output_type": "stream",
          "name": "stderr",
          "text": [
            "100%|██████████| 32/32 [00:22<00:00,  1.42it/s]\n"
          ]
        },
        {
          "output_type": "stream",
          "name": "stdout",
          "text": [
            "\n",
            "022_UCR_Anomaly_4000.txt 4000/12000\n"
          ]
        },
        {
          "output_type": "stream",
          "name": "stderr",
          "text": [
            "100%|██████████| 32/32 [00:19<00:00,  1.62it/s]\n"
          ]
        },
        {
          "output_type": "stream",
          "name": "stdout",
          "text": [
            "\n",
            "023_UCR_Anomaly_5000.txt 5000/12000\n"
          ]
        },
        {
          "output_type": "stream",
          "name": "stderr",
          "text": [
            "100%|██████████| 32/32 [00:22<00:00,  1.42it/s]\n"
          ]
        },
        {
          "output_type": "stream",
          "name": "stdout",
          "text": [
            "\n",
            "024_UCR_Anomaly_3200.txt 3200/7501\n"
          ]
        },
        {
          "output_type": "stream",
          "name": "stderr",
          "text": [
            "100%|██████████| 32/32 [00:08<00:00,  3.90it/s]\n"
          ]
        },
        {
          "output_type": "stream",
          "name": "stdout",
          "text": [
            "\n",
            "025_UCR_Anomaly_2800.txt 2800/7501\n"
          ]
        },
        {
          "output_type": "stream",
          "name": "stderr",
          "text": [
            "100%|██████████| 32/32 [00:07<00:00,  4.17it/s]\n"
          ]
        },
        {
          "output_type": "stream",
          "name": "stdout",
          "text": [
            "\n",
            "026_UCR_Anomaly_1700.txt 1700/7601\n"
          ]
        },
        {
          "output_type": "stream",
          "name": "stderr",
          "text": [
            "100%|██████████| 32/32 [00:05<00:00,  6.03it/s]\n"
          ]
        },
        {
          "output_type": "stream",
          "name": "stdout",
          "text": [
            "\n",
            "027_UCR_Anomaly_1200.txt 1200/7501\n"
          ]
        },
        {
          "output_type": "stream",
          "name": "stderr",
          "text": [
            "100%|██████████| 32/32 [00:03<00:00,  8.66it/s]\n"
          ]
        },
        {
          "output_type": "stream",
          "name": "stdout",
          "text": [
            "\n",
            "028_UCR_Anomaly_1600.txt 1600/7500\n"
          ]
        },
        {
          "output_type": "stream",
          "name": "stderr",
          "text": [
            "100%|██████████| 32/32 [00:04<00:00,  6.61it/s]\n"
          ]
        },
        {
          "output_type": "stream",
          "name": "stdout",
          "text": [
            "\n",
            "029_UCR_Anomaly_2300.txt 2300/7500\n"
          ]
        },
        {
          "output_type": "stream",
          "name": "stderr",
          "text": [
            "100%|██████████| 32/32 [00:06<00:00,  4.84it/s]\n"
          ]
        },
        {
          "output_type": "stream",
          "name": "stdout",
          "text": [
            "\n",
            "030_UCR_Anomaly_3000.txt 3000/7500\n"
          ]
        },
        {
          "output_type": "stream",
          "name": "stderr",
          "text": [
            "100%|██████████| 32/32 [00:08<00:00,  3.94it/s]\n"
          ]
        },
        {
          "output_type": "stream",
          "name": "stdout",
          "text": [
            "\n",
            "031_UCR_Anomaly_2700.txt 2700/7500\n"
          ]
        },
        {
          "output_type": "stream",
          "name": "stderr",
          "text": [
            "100%|██████████| 32/32 [00:07<00:00,  4.21it/s]\n"
          ]
        },
        {
          "output_type": "stream",
          "name": "stdout",
          "text": [
            "\n",
            "032_UCR_Anomaly_1000.txt 1000/7321\n"
          ]
        },
        {
          "output_type": "stream",
          "name": "stderr",
          "text": [
            "100%|██████████| 32/32 [00:02<00:00, 10.93it/s]\n"
          ]
        },
        {
          "output_type": "stream",
          "name": "stdout",
          "text": [
            "\n",
            "033_UCR_Anomaly_4000.txt 4000/7415\n"
          ]
        },
        {
          "output_type": "stream",
          "name": "stderr",
          "text": [
            "100%|██████████| 32/32 [00:09<00:00,  3.27it/s]\n"
          ]
        },
        {
          "output_type": "stream",
          "name": "stdout",
          "text": [
            "\n",
            "034_UCR_Anomaly_1500.txt 1500/7654\n"
          ]
        },
        {
          "output_type": "stream",
          "name": "stderr",
          "text": [
            "100%|██████████| 32/32 [00:04<00:00,  6.98it/s]\n"
          ]
        },
        {
          "output_type": "stream",
          "name": "stdout",
          "text": [
            "\n",
            "035_UCR_Anomaly_2500.txt 2500/7501\n"
          ]
        },
        {
          "output_type": "stream",
          "name": "stderr",
          "text": [
            "100%|██████████| 32/32 [00:07<00:00,  4.51it/s]\n"
          ]
        },
        {
          "output_type": "stream",
          "name": "stdout",
          "text": [
            "\n",
            "036_UCR_Anomaly_4200.txt 4200/7501\n"
          ]
        },
        {
          "output_type": "stream",
          "name": "stderr",
          "text": [
            "100%|██████████| 32/32 [00:09<00:00,  3.22it/s]\n"
          ]
        },
        {
          "output_type": "stream",
          "name": "stdout",
          "text": [
            "\n",
            "037_UCR_Anomaly_5000.txt 5000/30001\n"
          ]
        },
        {
          "output_type": "stream",
          "name": "stderr",
          "text": [
            "100%|██████████| 32/32 [01:41<00:00,  3.16s/it]\n"
          ]
        },
        {
          "output_type": "stream",
          "name": "stdout",
          "text": [
            "\n",
            "038_UCR_Anomaly_5000.txt 5000/29950\n"
          ]
        },
        {
          "output_type": "stream",
          "name": "stderr",
          "text": [
            "100%|██████████| 32/32 [01:40<00:00,  3.15s/it]\n"
          ]
        },
        {
          "output_type": "stream",
          "name": "stdout",
          "text": [
            "\n",
            "039_UCR_Anomaly_5000.txt 5000/29950\n"
          ]
        },
        {
          "output_type": "stream",
          "name": "stderr",
          "text": [
            "100%|██████████| 32/32 [01:41<00:00,  3.16s/it]\n"
          ]
        },
        {
          "output_type": "stream",
          "name": "stdout",
          "text": [
            "\n",
            "040_UCR_Anomaly_6000.txt 6000/30066\n"
          ]
        },
        {
          "output_type": "stream",
          "name": "stderr",
          "text": [
            "100%|██████████| 32/32 [01:53<00:00,  3.54s/it]\n"
          ]
        },
        {
          "output_type": "stream",
          "name": "stdout",
          "text": [
            "\n",
            "041_UCR_Anomaly_7000.txt 7000/29826\n"
          ]
        },
        {
          "output_type": "stream",
          "name": "stderr",
          "text": [
            "100%|██████████| 32/32 [02:03<00:00,  3.86s/it]\n"
          ]
        },
        {
          "output_type": "stream",
          "name": "stdout",
          "text": [
            "\n",
            "042_UCR_Anomaly_7000.txt 7000/29859\n"
          ]
        },
        {
          "output_type": "stream",
          "name": "stderr",
          "text": [
            "100%|██████████| 32/32 [02:03<00:00,  3.87s/it]\n"
          ]
        },
        {
          "output_type": "stream",
          "name": "stdout",
          "text": [
            "\n",
            "043_UCR_Anomaly_10000.txt 10000/24667\n"
          ]
        },
        {
          "output_type": "stream",
          "name": "stderr",
          "text": [
            "100%|██████████| 32/32 [01:42<00:00,  3.19s/it]\n"
          ]
        },
        {
          "output_type": "stream",
          "name": "stdout",
          "text": [
            "\n",
            "044_UCR_Anomaly_9000.txt 9000/29931\n"
          ]
        },
        {
          "output_type": "stream",
          "name": "stderr",
          "text": [
            "100%|██████████| 32/32 [02:16<00:00,  4.26s/it]\n"
          ]
        },
        {
          "output_type": "stream",
          "name": "stdout",
          "text": [
            "\n",
            "045_UCR_Anomaly_14000.txt 14000/29931\n"
          ]
        },
        {
          "output_type": "stream",
          "name": "stderr",
          "text": [
            "100%|██████████| 32/32 [02:33<00:00,  4.80s/it]\n"
          ]
        },
        {
          "output_type": "stream",
          "name": "stdout",
          "text": [
            "\n",
            "046_UCR_Anomaly_16000.txt 16000/29931\n"
          ]
        },
        {
          "output_type": "stream",
          "name": "stderr",
          "text": [
            "100%|██████████| 32/32 [02:40<00:00,  5.01s/it]\n"
          ]
        },
        {
          "output_type": "stream",
          "name": "stdout",
          "text": [
            "\n",
            "047_UCR_Anomaly_18000.txt 18000/29931\n"
          ]
        },
        {
          "output_type": "stream",
          "name": "stderr",
          "text": [
            "100%|██████████| 32/32 [02:45<00:00,  5.18s/it]\n"
          ]
        },
        {
          "output_type": "stream",
          "name": "stdout",
          "text": [
            "\n",
            "048_UCR_Anomaly_3500.txt 3500/11334\n"
          ]
        },
        {
          "output_type": "stream",
          "name": "stderr",
          "text": [
            "100%|██████████| 32/32 [00:16<00:00,  1.98it/s]\n"
          ]
        },
        {
          "output_type": "stream",
          "name": "stdout",
          "text": [
            "\n",
            "049_UCR_Anomaly_3500.txt 3500/11406\n"
          ]
        },
        {
          "output_type": "stream",
          "name": "stderr",
          "text": [
            "100%|██████████| 32/32 [00:16<00:00,  1.96it/s]\n"
          ]
        },
        {
          "output_type": "stream",
          "name": "stdout",
          "text": [
            "\n",
            "050_UCR_Anomaly_3500.txt 3500/11308\n"
          ]
        },
        {
          "output_type": "stream",
          "name": "stderr",
          "text": [
            "100%|██████████| 32/32 [00:16<00:00,  1.97it/s]\n"
          ]
        },
        {
          "output_type": "stream",
          "name": "stdout",
          "text": [
            "\n",
            "051_UCR_Anomaly_3500.txt 3500/11388\n"
          ]
        },
        {
          "output_type": "stream",
          "name": "stderr",
          "text": [
            "100%|██████████| 32/32 [00:16<00:00,  1.96it/s]\n"
          ]
        },
        {
          "output_type": "stream",
          "name": "stdout",
          "text": [
            "\n",
            "052_UCR_Anomaly_3500.txt 3500/11308\n"
          ]
        },
        {
          "output_type": "stream",
          "name": "stderr",
          "text": [
            "100%|██████████| 32/32 [00:16<00:00,  1.99it/s]\n"
          ]
        },
        {
          "output_type": "stream",
          "name": "stdout",
          "text": [
            "\n",
            "053_UCR_Anomaly_1500.txt 1500/6684\n"
          ]
        },
        {
          "output_type": "stream",
          "name": "stderr",
          "text": [
            "100%|██████████| 32/32 [00:03<00:00,  8.19it/s]\n"
          ]
        },
        {
          "output_type": "stream",
          "name": "stdout",
          "text": [
            "\n",
            "054_UCR_Anomaly_2700.txt 2700/6684\n"
          ]
        },
        {
          "output_type": "stream",
          "name": "stderr",
          "text": [
            "100%|██████████| 32/32 [00:06<00:00,  4.90it/s]\n"
          ]
        },
        {
          "output_type": "stream",
          "name": "stdout",
          "text": [
            "\n",
            "055_UCR_Anomaly_10000.txt 10000/38501\n"
          ]
        },
        {
          "output_type": "stream",
          "name": "stderr",
          "text": [
            "100%|██████████| 32/32 [03:35<00:00,  6.72s/it]\n"
          ]
        },
        {
          "output_type": "stream",
          "name": "stdout",
          "text": [
            "\n",
            "056_UCR_Anomaly_5000.txt 5000/38379\n"
          ]
        },
        {
          "output_type": "stream",
          "name": "stderr",
          "text": [
            "100%|██████████| 32/32 [02:36<00:00,  4.90s/it]\n"
          ]
        },
        {
          "output_type": "stream",
          "name": "stdout",
          "text": [
            "\n",
            "057_UCR_Anomaly_6000.txt 6000/38269\n"
          ]
        },
        {
          "output_type": "stream",
          "name": "stderr",
          "text": [
            "100%|██████████| 32/32 [02:53<00:00,  5.42s/it]\n"
          ]
        },
        {
          "output_type": "stream",
          "name": "stdout",
          "text": [
            "\n",
            "058_UCR_Anomaly_10000.txt 10000/38501\n"
          ]
        },
        {
          "output_type": "stream",
          "name": "stderr",
          "text": [
            "100%|██████████| 32/32 [03:35<00:00,  6.74s/it]\n"
          ]
        },
        {
          "output_type": "stream",
          "name": "stdout",
          "text": [
            "\n",
            "059_UCR_Anomaly_20000.txt 20000/65000\n"
          ]
        },
        {
          "output_type": "stream",
          "name": "stderr",
          "text": [
            "100%|██████████| 32/32 [10:26<00:00, 19.58s/it]\n"
          ]
        },
        {
          "output_type": "stream",
          "name": "stdout",
          "text": [
            "\n",
            "060_UCR_Anomaly_22000.txt 22000/65000\n"
          ]
        },
        {
          "output_type": "stream",
          "name": "stderr",
          "text": [
            "100%|██████████| 32/32 [10:44<00:00, 20.14s/it]\n"
          ]
        },
        {
          "output_type": "stream",
          "name": "stdout",
          "text": [
            "\n",
            "061_UCR_Anomaly_24500.txt 24500/65000\n"
          ]
        },
        {
          "output_type": "stream",
          "name": "stderr",
          "text": [
            "100%|██████████| 32/32 [11:04<00:00, 20.78s/it]\n"
          ]
        },
        {
          "output_type": "stream",
          "name": "stdout",
          "text": [
            "\n",
            "062_UCR_Anomaly_18500.txt 18500/64000\n"
          ]
        },
        {
          "output_type": "stream",
          "name": "stderr",
          "text": [
            "100%|██████████| 32/32 [09:56<00:00, 18.65s/it]\n"
          ]
        },
        {
          "output_type": "stream",
          "name": "stdout",
          "text": [
            "\n",
            "063_UCR_Anomaly_18500.txt 18500/64000\n"
          ]
        },
        {
          "output_type": "stream",
          "name": "stderr",
          "text": [
            "100%|██████████| 32/32 [09:56<00:00, 18.64s/it]\n"
          ]
        },
        {
          "output_type": "stream",
          "name": "stdout",
          "text": [
            "\n",
            "064_UCR_Anomaly_23400.txt 23400/64000\n"
          ]
        },
        {
          "output_type": "stream",
          "name": "stderr",
          "text": [
            "100%|██████████| 32/32 [10:36<00:00, 19.88s/it]\n"
          ]
        },
        {
          "output_type": "stream",
          "name": "stdout",
          "text": [
            "\n",
            "065_UCR_Anomaly_3000.txt 3000/10001\n"
          ]
        },
        {
          "output_type": "stream",
          "name": "stderr",
          "text": [
            "100%|██████████| 32/32 [00:12<00:00,  2.58it/s]\n"
          ]
        },
        {
          "output_type": "stream",
          "name": "stdout",
          "text": [
            "\n",
            "066_UCR_Anomaly_3700.txt 3700/9998\n"
          ]
        },
        {
          "output_type": "stream",
          "name": "stderr",
          "text": [
            "100%|██████████| 32/32 [00:14<00:00,  2.27it/s]\n"
          ]
        },
        {
          "output_type": "stream",
          "name": "stdout",
          "text": [
            "\n",
            "067_UCR_Anomaly_5200.txt 5200/9998\n"
          ]
        },
        {
          "output_type": "stream",
          "name": "stderr",
          "text": [
            "100%|██████████| 32/32 [00:17<00:00,  1.86it/s]\n"
          ]
        },
        {
          "output_type": "stream",
          "name": "stdout",
          "text": [
            "\n",
            "068_UCR_Anomaly_1300.txt 1300/9998\n"
          ]
        },
        {
          "output_type": "stream",
          "name": "stderr",
          "text": [
            "100%|██████████| 32/32 [00:06<00:00,  5.19it/s]\n"
          ]
        },
        {
          "output_type": "stream",
          "name": "stdout",
          "text": [
            "\n",
            "069_UCR_Anomaly_3200.txt 3200/10028\n"
          ]
        },
        {
          "output_type": "stream",
          "name": "stderr",
          "text": [
            "100%|██████████| 32/32 [00:12<00:00,  2.53it/s]\n"
          ]
        },
        {
          "output_type": "stream",
          "name": "stdout",
          "text": [
            "\n",
            "070_UCR_Anomaly_17555.txt 17555/56123\n"
          ]
        },
        {
          "output_type": "stream",
          "name": "stderr",
          "text": [
            "100%|██████████| 32/32 [07:51<00:00, 14.73s/it]\n"
          ]
        },
        {
          "output_type": "stream",
          "name": "stdout",
          "text": [
            "\n",
            "071_UCR_Anomaly_23000.txt 23000/55000\n"
          ]
        },
        {
          "output_type": "stream",
          "name": "stderr",
          "text": [
            "100%|██████████| 32/32 [08:09<00:00, 15.31s/it]\n"
          ]
        },
        {
          "output_type": "stream",
          "name": "stdout",
          "text": [
            "\n",
            "072_UCR_Anomaly_20000.txt 20000/55000\n"
          ]
        },
        {
          "output_type": "stream",
          "name": "stderr",
          "text": [
            "100%|██████████| 32/32 [07:51<00:00, 14.74s/it]\n"
          ]
        },
        {
          "output_type": "stream",
          "name": "stdout",
          "text": [
            "\n",
            "073_UCR_Anomaly_60000.txt 60000/90000\n"
          ]
        },
        {
          "output_type": "stream",
          "name": "stderr",
          "text": [
            "100%|██████████| 32/32 [24:48<00:00, 46.51s/it]\n"
          ]
        },
        {
          "output_type": "stream",
          "name": "stdout",
          "text": [
            "\n",
            "074_UCR_Anomaly_4000.txt 4000/36001\n"
          ]
        },
        {
          "output_type": "stream",
          "name": "stderr",
          "text": [
            "100%|██████████| 32/32 [02:09<00:00,  4.03s/it]\n"
          ]
        },
        {
          "output_type": "stream",
          "name": "stdout",
          "text": [
            "\n",
            "075_UCR_Anomaly_4000.txt 4000/30000\n"
          ]
        },
        {
          "output_type": "stream",
          "name": "stderr",
          "text": [
            "100%|██████████| 32/32 [01:31<00:00,  2.85s/it]\n"
          ]
        }
      ]
    },
    {
      "cell_type": "code",
      "source": [
        "os.chdir(\"/content/drive/My Drive\")\n",
        "!ls\n"
      ],
      "metadata": {
        "colab": {
          "base_uri": "https://localhost:8080/"
        },
        "id": "047Vz1TYrEYo",
        "outputId": "b4d68f89-2087-4a54-f92a-78a55c2a4c1e"
      },
      "id": "047Vz1TYrEYo",
      "execution_count": null,
      "outputs": [
        {
          "output_type": "stream",
          "name": "stdout",
          "text": [
            "'AICSE Project Data'   'financial support.pdf'\t\t   result.csv\n",
            "'bank statement.pdf'   'Getting started.pdf'\t\t   vMalConv\n",
            "'Colab Notebooks'       kddcup.data_10_percent_corrected\n",
            "'Dublu Bio-data.docx'   Pickle_Files\n"
          ]
        }
      ]
    },
    {
      "cell_type": "code",
      "source": [
        "results.head()"
      ],
      "metadata": {
        "colab": {
          "base_uri": "https://localhost:8080/",
          "height": 206
        },
        "id": "Is5i7-jgrPhp",
        "outputId": "4f3d1466-ae7d-4d7b-e626-363e36f2314e"
      },
      "id": "Is5i7-jgrPhp",
      "execution_count": null,
      "outputs": [
        {
          "output_type": "execute_result",
          "data": {
            "text/html": [
              "<div>\n",
              "<style scoped>\n",
              "    .dataframe tbody tr th:only-of-type {\n",
              "        vertical-align: middle;\n",
              "    }\n",
              "\n",
              "    .dataframe tbody tr th {\n",
              "        vertical-align: top;\n",
              "    }\n",
              "\n",
              "    .dataframe thead th {\n",
              "        text-align: right;\n",
              "    }\n",
              "</style>\n",
              "<table border=\"1\" class=\"dataframe\">\n",
              "  <thead>\n",
              "    <tr style=\"text-align: right;\">\n",
              "      <th></th>\n",
              "      <th>number</th>\n",
              "      <th>w</th>\n",
              "      <th>name</th>\n",
              "      <th>rate</th>\n",
              "      <th>begin</th>\n",
              "      <th>end</th>\n",
              "      <th>index1</th>\n",
              "      <th>value1</th>\n",
              "      <th>index2</th>\n",
              "      <th>value2</th>\n",
              "    </tr>\n",
              "  </thead>\n",
              "  <tbody>\n",
              "    <tr>\n",
              "      <th>0</th>\n",
              "      <td>001</td>\n",
              "      <td>40</td>\n",
              "      <td>orig_p2p</td>\n",
              "      <td>1.126924</td>\n",
              "      <td>66828</td>\n",
              "      <td>66908</td>\n",
              "      <td>66868</td>\n",
              "      <td>1474.047578</td>\n",
              "      <td>9025</td>\n",
              "      <td>1308.027334</td>\n",
              "    </tr>\n",
              "    <tr>\n",
              "      <th>1</th>\n",
              "      <td>001</td>\n",
              "      <td>40</td>\n",
              "      <td>acc_p2p</td>\n",
              "      <td>1.006119</td>\n",
              "      <td>61448</td>\n",
              "      <td>61528</td>\n",
              "      <td>61488</td>\n",
              "      <td>1108.742539</td>\n",
              "      <td>25068</td>\n",
              "      <td>1101.999579</td>\n",
              "    </tr>\n",
              "    <tr>\n",
              "      <th>2</th>\n",
              "      <td>001</td>\n",
              "      <td>40</td>\n",
              "      <td>diff_small</td>\n",
              "      <td>1.089958</td>\n",
              "      <td>56861</td>\n",
              "      <td>56941</td>\n",
              "      <td>56901</td>\n",
              "      <td>0.325625</td>\n",
              "      <td>56114</td>\n",
              "      <td>0.298750</td>\n",
              "    </tr>\n",
              "    <tr>\n",
              "      <th>3</th>\n",
              "      <td>001</td>\n",
              "      <td>40</td>\n",
              "      <td>orig_mp_novelty</td>\n",
              "      <td>1.077604</td>\n",
              "      <td>66357</td>\n",
              "      <td>66437</td>\n",
              "      <td>66397</td>\n",
              "      <td>1.504859</td>\n",
              "      <td>39327</td>\n",
              "      <td>1.396486</td>\n",
              "    </tr>\n",
              "    <tr>\n",
              "      <th>4</th>\n",
              "      <td>001</td>\n",
              "      <td>40</td>\n",
              "      <td>orig_np_novelty</td>\n",
              "      <td>1.105841</td>\n",
              "      <td>76724</td>\n",
              "      <td>76804</td>\n",
              "      <td>76764</td>\n",
              "      <td>2.147368</td>\n",
              "      <td>66887</td>\n",
              "      <td>1.941841</td>\n",
              "    </tr>\n",
              "  </tbody>\n",
              "</table>\n",
              "</div>"
            ],
            "text/plain": [
              "  number   w             name  ...       value1  index2       value2\n",
              "0    001  40         orig_p2p  ...  1474.047578    9025  1308.027334\n",
              "1    001  40          acc_p2p  ...  1108.742539   25068  1101.999579\n",
              "2    001  40       diff_small  ...     0.325625   56114     0.298750\n",
              "3    001  40  orig_mp_novelty  ...     1.504859   39327     1.396486\n",
              "4    001  40  orig_np_novelty  ...     2.147368   66887     1.941841\n",
              "\n",
              "[5 rows x 10 columns]"
            ]
          },
          "metadata": {},
          "execution_count": 13
        }
      ]
    },
    {
      "cell_type": "code",
      "source": [
        "results = pd.DataFrame(results, columns=['number', 'w', 'name', 'rate', 'begin', 'end', 'index1', 'value1', 'index2', 'value2'])\n",
        "\n",
        "# Make submission csv\n",
        "submission = results.loc[results.groupby('number')['rate'].idxmax(), 'index1']\n",
        "submission.index = np.arange(len(submission)) + 1\n",
        "submission.name = 'location'\n",
        "submission.index.name = 'No.'\n",
        "submission.to_csv('result.csv')\n"
      ],
      "metadata": {
        "id": "JOkhAX9HG6t4",
        "colab": {
          "base_uri": "https://localhost:8080/",
          "height": 234
        },
        "outputId": "06e25bba-8a21-4eb0-8a87-01cfd5da96c6"
      },
      "id": "JOkhAX9HG6t4",
      "execution_count": null,
      "outputs": [
        {
          "output_type": "error",
          "ename": "NameError",
          "evalue": "ignored",
          "traceback": [
            "\u001b[0;31m---------------------------------------------------------------------------\u001b[0m",
            "\u001b[0;31mNameError\u001b[0m                                 Traceback (most recent call last)",
            "\u001b[0;32m<ipython-input-1-c0e7a3d33895>\u001b[0m in \u001b[0;36m<module>\u001b[0;34m()\u001b[0m\n\u001b[0;32m----> 1\u001b[0;31m \u001b[0mresults\u001b[0m \u001b[0;34m=\u001b[0m \u001b[0mpd\u001b[0m\u001b[0;34m.\u001b[0m\u001b[0mDataFrame\u001b[0m\u001b[0;34m(\u001b[0m\u001b[0mresults\u001b[0m\u001b[0;34m,\u001b[0m \u001b[0mcolumns\u001b[0m\u001b[0;34m=\u001b[0m\u001b[0;34m[\u001b[0m\u001b[0;34m'number'\u001b[0m\u001b[0;34m,\u001b[0m \u001b[0;34m'w'\u001b[0m\u001b[0;34m,\u001b[0m \u001b[0;34m'name'\u001b[0m\u001b[0;34m,\u001b[0m \u001b[0;34m'rate'\u001b[0m\u001b[0;34m,\u001b[0m \u001b[0;34m'begin'\u001b[0m\u001b[0;34m,\u001b[0m \u001b[0;34m'end'\u001b[0m\u001b[0;34m,\u001b[0m \u001b[0;34m'index1'\u001b[0m\u001b[0;34m,\u001b[0m \u001b[0;34m'value1'\u001b[0m\u001b[0;34m,\u001b[0m \u001b[0;34m'index2'\u001b[0m\u001b[0;34m,\u001b[0m \u001b[0;34m'value2'\u001b[0m\u001b[0;34m]\u001b[0m\u001b[0;34m)\u001b[0m\u001b[0;34m\u001b[0m\u001b[0;34m\u001b[0m\u001b[0m\n\u001b[0m\u001b[1;32m      2\u001b[0m \u001b[0;34m\u001b[0m\u001b[0m\n\u001b[1;32m      3\u001b[0m \u001b[0;31m# Make submission csv\u001b[0m\u001b[0;34m\u001b[0m\u001b[0;34m\u001b[0m\u001b[0;34m\u001b[0m\u001b[0m\n\u001b[1;32m      4\u001b[0m \u001b[0msubmission\u001b[0m \u001b[0;34m=\u001b[0m \u001b[0mresults\u001b[0m\u001b[0;34m.\u001b[0m\u001b[0mloc\u001b[0m\u001b[0;34m[\u001b[0m\u001b[0mresults\u001b[0m\u001b[0;34m.\u001b[0m\u001b[0mgroupby\u001b[0m\u001b[0;34m(\u001b[0m\u001b[0;34m'number'\u001b[0m\u001b[0;34m)\u001b[0m\u001b[0;34m[\u001b[0m\u001b[0;34m'rate'\u001b[0m\u001b[0;34m]\u001b[0m\u001b[0;34m.\u001b[0m\u001b[0midxmax\u001b[0m\u001b[0;34m(\u001b[0m\u001b[0;34m)\u001b[0m\u001b[0;34m,\u001b[0m \u001b[0;34m'index1'\u001b[0m\u001b[0;34m]\u001b[0m\u001b[0;34m\u001b[0m\u001b[0;34m\u001b[0m\u001b[0m\n\u001b[1;32m      5\u001b[0m \u001b[0msubmission\u001b[0m\u001b[0;34m.\u001b[0m\u001b[0mindex\u001b[0m \u001b[0;34m=\u001b[0m \u001b[0mnp\u001b[0m\u001b[0;34m.\u001b[0m\u001b[0marange\u001b[0m\u001b[0;34m(\u001b[0m\u001b[0mlen\u001b[0m\u001b[0;34m(\u001b[0m\u001b[0msubmission\u001b[0m\u001b[0;34m)\u001b[0m\u001b[0;34m)\u001b[0m \u001b[0;34m+\u001b[0m \u001b[0;36m1\u001b[0m\u001b[0;34m\u001b[0m\u001b[0;34m\u001b[0m\u001b[0m\n",
            "\u001b[0;31mNameError\u001b[0m: name 'pd' is not defined"
          ]
        }
      ]
    },
    {
      "cell_type": "code",
      "source": [
        ""
      ],
      "metadata": {
        "id": "6ysZlkjoSjkI"
      },
      "id": "6ysZlkjoSjkI",
      "execution_count": null,
      "outputs": []
    }
  ],
  "metadata": {
    "kernelspec": {
      "display_name": "Python 3",
      "language": "python",
      "name": "python3"
    },
    "colab": {
      "name": "ai and cys Project.ipynb",
      "provenance": [],
      "collapsed_sections": [],
      "machine_shape": "hm"
    }
  },
  "nbformat": 4,
  "nbformat_minor": 5
}